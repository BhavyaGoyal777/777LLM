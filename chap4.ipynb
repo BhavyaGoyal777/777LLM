{
 "cells": [
  {
   "cell_type": "code",
   "execution_count": 1,
   "metadata": {},
   "outputs": [
    {
     "name": "stdout",
     "output_type": "stream",
     "text": [
      "....Starting chpater 4 \n"
     ]
    }
   ],
   "source": [
    "print(\"....Starting chpater 4 \")"
   ]
  },
  {
   "cell_type": "code",
   "execution_count": 2,
   "metadata": {},
   "outputs": [],
   "source": [
    "GPT_CONFIG_124M = {\n",
    "    \"vocab_size\":50257,\n",
    "    \"context_length\":1024,\n",
    "    \"emb_dim\":764,\n",
    "    \"n_heads\":12,\n",
    "    \"n_layers\":12,\n",
    "    \"drop_rate\":0.1,\n",
    "    \"bias_\":False\n",
    "    }"
   ]
  },
  {
   "cell_type": "code",
   "execution_count": 25,
   "metadata": {},
   "outputs": [],
   "source": [
    "import torch\n",
    "import torch.nn as nn\n",
    "\n",
    "class DummyGPTModel(nn.Module):\n",
    "    def __init__(self, cfg): # ----->cfg stands for configuration of the model\n",
    "        super().__init__()\n",
    "        self.token_embedding=nn.Embedding(cfg['vocab_size'],cfg['emb_dim'])\n",
    "        self.positional_embedding=nn.Embedding(cfg['context_length'],cfg['emb_dim'])\n",
    "        self.drop_emnd=nn.Dropout(cfg['drop_rate'])\n",
    "        self.transformer_blocks= nn.Sequential(\n",
    "            *[DummyTransformerBlock(cfg)\n",
    "              for _ in range(cfg['n_layers'])]\n",
    "        )\n",
    "        self.final_norm=DummyLayerNorm(cfg['emb_dim'])\n",
    "\n",
    "        self.out_head=nn.Linear(\n",
    "            cfg['emb_dim'],cfg['vocab_size']\n",
    "            ,bias=False\n",
    "        )\n",
    "\n",
    "\n",
    "    def forward(self,in_idx):\n",
    "        batch_size , seq_len= in_idx.shape\n",
    "\n",
    "        tok_embeds=self.token_embedding(in_idx)\n",
    "        pos_embeds=self.positional_embedding(\n",
    "            torch.arange(seq_len,device=in_idx.device)\n",
    "        ) \n",
    "\n",
    "        x = tok_embeds + pos_embeds\n",
    "        x=self.drop_emnd(x)\n",
    "        x=self.transformer_blocks(x)\n",
    "        x=self.final_norm(x)\n",
    "\n",
    "        logits=self.out_head(x)\n",
    "\n",
    "        return logits\n",
    "    \n",
    "\n",
    "class DummyTransformerBlock(nn.Module):\n",
    "    def __init__(self,cfg ):\n",
    "        super().__init__()\n",
    "\n",
    "    def forward(self,x):\n",
    "        return x \n",
    "\n",
    "class DummyLayerNorm(nn.Module):\n",
    "    def __init__(self,normalizerd_shape,eps=1e-5 ):\n",
    "        super().__init__()\n",
    "\n",
    "    def forward(self,x):\n",
    "        return x                   \n",
    "\n"
   ]
  },
  {
   "cell_type": "code",
   "execution_count": 26,
   "metadata": {},
   "outputs": [
    {
     "data": {
      "text/plain": [
       "tensor([[   40, 13721, 15461,   220],\n",
       "        [   40,   716,   281, 11949]])"
      ]
     },
     "execution_count": 26,
     "metadata": {},
     "output_type": "execute_result"
    }
   ],
   "source": [
    "import tiktoken\n",
    "\n",
    "GPT_toknizer=tiktoken.get_encoding('gpt2')\n",
    "batch=[]\n",
    "txt1=\"I regret pursuing \"\n",
    "txt2=\"I am an engineer\"\n",
    "\n",
    "batch.append(torch.tensor(GPT_toknizer.encode(txt1)))\n",
    "batch.append(torch.tensor(GPT_toknizer.encode(txt2)))\n",
    "\n",
    "batch=torch.stack(batch,dim=0)\n",
    "\n",
    "batch"
   ]
  },
  {
   "cell_type": "code",
   "execution_count": 27,
   "metadata": {},
   "outputs": [
    {
     "data": {
      "text/plain": [
       "torch.Size([2, 4, 50257])"
      ]
     },
     "execution_count": 27,
     "metadata": {},
     "output_type": "execute_result"
    }
   ],
   "source": [
    "torch.manual_seed(69)\n",
    "\n",
    "model=DummyGPTModel(GPT_CONFIG_124M)\n",
    "\n",
    "logits=model(batch)\n",
    "\n",
    "\n",
    "logits.shape"
   ]
  },
  {
   "cell_type": "code",
   "execution_count": 28,
   "metadata": {},
   "outputs": [
    {
     "data": {
      "text/plain": [
       "tensor([[[-0.1606,  0.1582, -0.1655,  ...,  0.2572,  0.0334, -0.6968],\n",
       "         [-0.1840,  1.4080,  0.6589,  ..., -0.0227,  0.6340, -0.7125],\n",
       "         [ 0.8344,  0.8508,  0.4825,  ...,  0.8057, -0.6171, -0.0570],\n",
       "         [ 0.8624,  1.2597,  0.6285,  ...,  0.5382,  0.7182,  0.8064]],\n",
       "\n",
       "        [[-0.0289,  0.0457,  0.4392,  ...,  0.2302,  0.1773, -1.3535],\n",
       "         [ 0.3389,  0.4130, -0.8439,  ...,  0.6826,  0.7022, -1.4519],\n",
       "         [ 0.6743,  1.1579,  0.9578,  ...,  1.3682, -0.9641, -0.5483],\n",
       "         [-0.0676,  1.9398, -0.2413,  ...,  0.8942, -1.0402, -0.1722]]],\n",
       "       grad_fn=<UnsafeViewBackward0>)"
      ]
     },
     "execution_count": 28,
     "metadata": {},
     "output_type": "execute_result"
    }
   ],
   "source": [
    "logits"
   ]
  },
  {
   "cell_type": "code",
   "execution_count": 29,
   "metadata": {},
   "outputs": [
    {
     "name": "stdout",
     "output_type": "stream",
     "text": [
      "tensor([[0.1514, 0.0000, 0.2192, 0.0000, 0.3302, 0.0000],\n",
      "        [0.2511, 0.0000, 0.0000, 0.1048, 0.2901, 0.0000]],\n",
      "       grad_fn=<ReluBackward0>)\n"
     ]
    }
   ],
   "source": [
    "torch.manual_seed(69)\n",
    "\n",
    "inputs=torch.rand(2,5)\n",
    "demoNN=nn.Sequential(\n",
    "    nn.Linear(5,6),\n",
    "    nn.ReLU()\n",
    ")\n",
    "out=demoNN(inputs)\n",
    "print(out)"
   ]
  },
  {
   "cell_type": "code",
   "execution_count": 36,
   "metadata": {},
   "outputs": [
    {
     "data": {
      "text/plain": [
       "tensor([[0.1168],\n",
       "        [0.1077]], grad_fn=<DivBackward0>)"
      ]
     },
     "execution_count": 36,
     "metadata": {},
     "output_type": "execute_result"
    }
   ],
   "source": [
    "out.sum(dim=-1,keepdim=True)/out.shape[-1]"
   ]
  },
  {
   "cell_type": "code",
   "execution_count": 37,
   "metadata": {},
   "outputs": [
    {
     "data": {
      "text/plain": [
       "tensor([[0.1168],\n",
       "        [0.1077]], grad_fn=<MeanBackward1>)"
      ]
     },
     "execution_count": 37,
     "metadata": {},
     "output_type": "execute_result"
    }
   ],
   "source": [
    "mean=out.mean(dim=-1,keepdim=True)\n",
    "mean"
   ]
  },
  {
   "cell_type": "code",
   "execution_count": 46,
   "metadata": {},
   "outputs": [
    {
     "data": {
      "text/plain": [
       "tensor([[0.0196],\n",
       "        [0.0177]], grad_fn=<VarBackward0>)"
      ]
     },
     "execution_count": 46,
     "metadata": {},
     "output_type": "execute_result"
    }
   ],
   "source": [
    "variance=out.var(dim=-1,keepdim=True)\n",
    "variance"
   ]
  },
  {
   "cell_type": "code",
   "execution_count": 47,
   "metadata": {},
   "outputs": [],
   "source": [
    "normalized_outputs = (out - mean)/torch.sqrt(variance)"
   ]
  },
  {
   "cell_type": "code",
   "execution_count": 51,
   "metadata": {},
   "outputs": [],
   "source": [
    "normalized_mean=normalized_outputs.mean(dim=-1,keepdim=True)"
   ]
  },
  {
   "cell_type": "code",
   "execution_count": 53,
   "metadata": {},
   "outputs": [],
   "source": [
    "normalized_variance=normalized_outputs.var(dim=-1,keepdim=True)\n"
   ]
  },
  {
   "cell_type": "code",
   "execution_count": 57,
   "metadata": {},
   "outputs": [
    {
     "name": "stdout",
     "output_type": "stream",
     "text": [
      "mean: tensor([    0.0000,     0.0000], grad_fn=<MeanBackward1>)\n",
      "variance: tensor([[1.0000],\n",
      "        [1.0000]], grad_fn=<VarBackward0>)\n"
     ]
    }
   ],
   "source": [
    "torch.set_printoptions(sci_mode=False)\n",
    "print(\"mean:\",normalized_mean)\n",
    "print(\"variance:\",normalized_variance)"
   ]
  },
  {
   "cell_type": "code",
   "execution_count": 59,
   "metadata": {},
   "outputs": [],
   "source": [
    "class LayerNorm(nn.Module):\n",
    "    def __init__(self, emb_dim):\n",
    "        super().__init__()\n",
    "        self.eps=1e-5\n",
    "        self.scale=nn.Parameter(torch.ones(emb_dim))\n",
    "        self.shift=nn.Parameter(torch.zeros(emb_dim))\n",
    "    def forward(self,x):\n",
    "        mean=x.mean(dim=-1,keep_dim=True)\n",
    "        var=x.var(dim=-1,keep_dim=True , unbiased=False)\n",
    "        norm_x=(x-mean) / torch.sqrt(var+self.eps)\n",
    "        return self.scale * norm_x + self.shift\n",
    "\n"
   ]
  },
  {
   "cell_type": "code",
   "execution_count": null,
   "metadata": {},
   "outputs": [],
   "source": []
  },
  {
   "cell_type": "code",
   "execution_count": null,
   "metadata": {},
   "outputs": [],
   "source": []
  }
 ],
 "metadata": {
  "kernelspec": {
   "display_name": "base",
   "language": "python",
   "name": "python3"
  },
  "language_info": {
   "codemirror_mode": {
    "name": "ipython",
    "version": 3
   },
   "file_extension": ".py",
   "mimetype": "text/x-python",
   "name": "python",
   "nbconvert_exporter": "python",
   "pygments_lexer": "ipython3",
   "version": "3.12.2"
  }
 },
 "nbformat": 4,
 "nbformat_minor": 2
}
